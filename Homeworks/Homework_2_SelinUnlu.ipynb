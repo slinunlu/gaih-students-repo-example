{
 "cells": [
  {
   "cell_type": "code",
   "execution_count": 15,
   "metadata": {},
   "outputs": [],
   "source": [
    "person_1 = { \"name\":\"Selin\", \"surname\":\"Ünlü\", \"age\":22, \"phone\":535, \"address\":\"Pendik\" }"
   ]
  },
  {
   "cell_type": "code",
   "execution_count": 16,
   "metadata": {},
   "outputs": [],
   "source": [
    "person_2 = { \"name\":\"Nergis\", \"surname\":\"Mert\", \"age\":21, \"phone\":543, \"address\":\"Pendik\" }"
   ]
  },
  {
   "cell_type": "code",
   "execution_count": 17,
   "metadata": {},
   "outputs": [],
   "source": [
    "person_3 = { \"name\":\"Buse\", \"surname\":\"Delibas\", \"age\":23, \"phone\":554, \"address\":\"Kartal\" }"
   ]
  },
  {
   "cell_type": "code",
   "execution_count": 18,
   "metadata": {},
   "outputs": [],
   "source": [
    "person_4 = { \"name\":\"Omer\", \"surname\":\"Cengiz\", \"age\":25, \"phone\":555, \"address\":\"Beylikduzu\" }"
   ]
  },
  {
   "cell_type": "code",
   "execution_count": 19,
   "metadata": {},
   "outputs": [],
   "source": [
    "person_5 = { \"name\":\"Zeynep\", \"surname\":\"Yilmaz\", \"age\":30, \"phone\":534, \"address\":\"Maltepe\" }"
   ]
  },
  {
   "cell_type": "code",
   "execution_count": 27,
   "metadata": {},
   "outputs": [
    {
     "name": "stdout",
     "output_type": "stream",
     "text": [
      "name : Selin\n",
      "surname : Ünlü\n",
      "age : 22\n",
      "phone : 535\n",
      "address : Pendik\n"
     ]
    }
   ],
   "source": [
    "for k,v in person_1.items():\n",
    "  print(k,\":\",v)"
   ]
  },
  {
   "cell_type": "code",
   "execution_count": 28,
   "metadata": {},
   "outputs": [
    {
     "name": "stdout",
     "output_type": "stream",
     "text": [
      "name : Nergis\n",
      "surname : Mert\n",
      "age : 21\n",
      "phone : 543\n",
      "address : Pendik\n"
     ]
    }
   ],
   "source": [
    "for k,v in person_2.items():\n",
    "  print(k,\":\",v)"
   ]
  },
  {
   "cell_type": "code",
   "execution_count": 29,
   "metadata": {},
   "outputs": [
    {
     "name": "stdout",
     "output_type": "stream",
     "text": [
      "name : Buse\n",
      "surname : Delibas\n",
      "age : 23\n",
      "phone : 554\n",
      "address : Kartal\n"
     ]
    }
   ],
   "source": [
    "for k,v in person_3.items():\n",
    "  print(k,\":\",v)"
   ]
  },
  {
   "cell_type": "code",
   "execution_count": 30,
   "metadata": {},
   "outputs": [
    {
     "name": "stdout",
     "output_type": "stream",
     "text": [
      "name : Omer\n",
      "surname : Cengiz\n",
      "age : 25\n",
      "phone : 555\n",
      "address : Beylikduzu\n"
     ]
    }
   ],
   "source": [
    "for k,v in person_4.items():\n",
    "  print(k,\":\",v)"
   ]
  },
  {
   "cell_type": "code",
   "execution_count": 31,
   "metadata": {},
   "outputs": [
    {
     "name": "stdout",
     "output_type": "stream",
     "text": [
      "name : Zeynep\n",
      "surname : Yilmaz\n",
      "age : 30\n",
      "phone : 534\n",
      "address : Maltepe\n"
     ]
    }
   ],
   "source": [
    "for k,v in person_5.items():\n",
    "  print(k,\":\",v)"
   ]
  }
 ],
 "metadata": {
  "kernelspec": {
   "display_name": "Python 3",
   "language": "python",
   "name": "python3"
  },
  "language_info": {
   "codemirror_mode": {
    "name": "ipython",
    "version": 3
   },
   "file_extension": ".py",
   "mimetype": "text/x-python",
   "name": "python",
   "nbconvert_exporter": "python",
   "pygments_lexer": "ipython3",
   "version": "3.7.4"
  }
 },
 "nbformat": 4,
 "nbformat_minor": 2
}
