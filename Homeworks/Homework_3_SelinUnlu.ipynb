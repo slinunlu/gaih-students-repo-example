{
 "cells": [
  {
   "cell_type": "code",
   "execution_count": 35,
   "metadata": {},
   "outputs": [],
   "source": [
    "def Grade():\n",
    "    \n",
    "    midterm = float(input(\"Please enter your midterm note: \"))\n",
    "    project = float(input(\"Please enter your project note: \"))\n",
    "    final   = float(input(\"Please enter your final note: \"))    \n",
    "    passingGrade = midterm*(0.3) + project*(0.3) + final*(0.4)\n",
    "    \n",
    "    return passingGrade"
   ]
  },
  {
   "cell_type": "code",
   "execution_count": 36,
   "metadata": {},
   "outputs": [
    {
     "name": "stdout",
     "output_type": "stream",
     "text": [
      "Please enter your midterm note: 56\n",
      "Please enter your project note: 67\n",
      "Please enter your final note: 78\n"
     ]
    }
   ],
   "source": [
    "s1 = Grade()"
   ]
  },
  {
   "cell_type": "code",
   "execution_count": 37,
   "metadata": {},
   "outputs": [
    {
     "name": "stdout",
     "output_type": "stream",
     "text": [
      "Please enter your midterm note: 80\n",
      "Please enter your project note: 86\n",
      "Please enter your final note: 92\n"
     ]
    }
   ],
   "source": [
    "s2 = Grade()"
   ]
  },
  {
   "cell_type": "code",
   "execution_count": 38,
   "metadata": {},
   "outputs": [
    {
     "name": "stdout",
     "output_type": "stream",
     "text": [
      "Please enter your midterm note: 45\n",
      "Please enter your project note: 45\n",
      "Please enter your final note: 55\n"
     ]
    }
   ],
   "source": [
    "s3 = Grade()"
   ]
  },
  {
   "cell_type": "code",
   "execution_count": 39,
   "metadata": {},
   "outputs": [
    {
     "name": "stdout",
     "output_type": "stream",
     "text": [
      "Please enter your midterm note: 55\n",
      "Please enter your project note: 66\n",
      "Please enter your final note: 77\n"
     ]
    }
   ],
   "source": [
    "s4 = Grade()"
   ]
  },
  {
   "cell_type": "code",
   "execution_count": 40,
   "metadata": {},
   "outputs": [
    {
     "name": "stdout",
     "output_type": "stream",
     "text": [
      "Please enter your midterm note: 34\n",
      "Please enter your project note: 35\n",
      "Please enter your final note: 50\n"
     ]
    }
   ],
   "source": [
    "s5 = Grade()"
   ]
  },
  {
   "cell_type": "code",
   "execution_count": 41,
   "metadata": {},
   "outputs": [],
   "source": [
    "students = { \"student1\":s1, \"student2\":s2, \"student3\":s3, \"student4\":s4, \"student5\":s5 }"
   ]
  },
  {
   "cell_type": "code",
   "execution_count": 42,
   "metadata": {},
   "outputs": [
    {
     "data": {
      "text/plain": [
       "[86.6, 68.1, 67.1, 49.0, 40.7]"
      ]
     },
     "execution_count": 42,
     "metadata": {},
     "output_type": "execute_result"
    }
   ],
   "source": [
    "notes = [s1,s2,s3,s4,s5]\n",
    "notes.sort()\n",
    "notes.reverse()\n",
    "notes"
   ]
  },
  {
   "cell_type": "code",
   "execution_count": 50,
   "metadata": {},
   "outputs": [
    {
     "name": "stdout",
     "output_type": "stream",
     "text": [
      "1.  student2\n",
      "2.  student1\n",
      "3.  student4\n",
      "4.  student3\n",
      "5.  student5\n"
     ]
    }
   ],
   "source": [
    "for k,v in students.items():\n",
    "    if v == notes[0]:\n",
    "        print(\"1. \",k)\n",
    "\n",
    "for k,v in students.items():\n",
    "    if v == notes[1]:\n",
    "        print(\"2. \",k)\n",
    "\n",
    "for k,v in students.items():\n",
    "    if v == notes[2]:\n",
    "        print(\"3. \",k)\n",
    "        \n",
    "for k,v in students.items():        \n",
    "    if v == notes[3]:\n",
    "        print(\"4. \",k)\n",
    "        \n",
    "for k,v in students.items():\n",
    "    if v == notes[4]:\n",
    "        print(\"5. \",k)"
   ]
  }
 ],
 "metadata": {
  "kernelspec": {
   "display_name": "Python 3",
   "language": "python",
   "name": "python3"
  },
  "language_info": {
   "codemirror_mode": {
    "name": "ipython",
    "version": 3
   },
   "file_extension": ".py",
   "mimetype": "text/x-python",
   "name": "python",
   "nbconvert_exporter": "python",
   "pygments_lexer": "ipython3",
   "version": "3.7.4"
  }
 },
 "nbformat": 4,
 "nbformat_minor": 2
}
