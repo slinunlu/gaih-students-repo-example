{
 "cells": [
  {
   "cell_type": "code",
   "execution_count": 5,
   "metadata": {},
   "outputs": [],
   "source": [
    "point = 0"
   ]
  },
  {
   "cell_type": "code",
   "execution_count": 6,
   "metadata": {},
   "outputs": [
    {
     "name": "stdout",
     "output_type": "stream",
     "text": [
      "Choose the correct words to complete the sentences.\n"
     ]
    }
   ],
   "source": [
    "print(\"Choose the correct words to complete the sentences.\") "
   ]
  },
  {
   "cell_type": "code",
   "execution_count": 7,
   "metadata": {},
   "outputs": [
    {
     "name": "stdout",
     "output_type": "stream",
     "text": [
      "Q1: We must have an ... supply of food before we start our journey.\n",
      "a) absolute\n",
      "b) abstract\n",
      "c) abundant\n",
      "d) aboard\n",
      "c\n",
      "You answered correctly :)\n",
      "Your point is 10\n"
     ]
    }
   ],
   "source": [
    "print(\"Q1: We must have an ... supply of food before we start our journey.\")\n",
    "print(\"a) absolute\")\n",
    "print(\"b) abstract\")\n",
    "print(\"c) abundant\")\n",
    "print(\"d) aboard\")\n",
    "\n",
    "answer = input()\n",
    "\n",
    "if answer == \"c\":\n",
    "    point = point + 10\n",
    "    print(\"You answered correctly :)\")\n",
    "    print(\"Your point is {}\".format(point))       \n",
    "elif answer == \"C\":\n",
    "    print(\"Please write without capital letters, you could not get any points.\")\n",
    "else:\n",
    "    print(\"You answered wrong :(\")\n",
    "    print(\"Your point is {}\".format(point))     "
   ]
  },
  {
   "cell_type": "code",
   "execution_count": 8,
   "metadata": {},
   "outputs": [
    {
     "name": "stdout",
     "output_type": "stream",
     "text": [
      "Q2: It is a very strange fact that frogs ... water through their skins.\n",
      "a) accelerate\n",
      "b) balance\n",
      "c) access\n",
      "d) absorb\n",
      "d\n",
      "You answered correctly :)\n",
      "Your point is 20\n"
     ]
    }
   ],
   "source": [
    "print(\"Q2: It is a very strange fact that frogs ... water through their skins.\")\n",
    "print(\"a) accelerate\")\n",
    "print(\"b) balance\")\n",
    "print(\"c) access\")\n",
    "print(\"d) absorb\")\n",
    "\n",
    "answer = input()\n",
    "\n",
    "if answer == \"d\":\n",
    "    point = point + 10\n",
    "    print(\"You answered correctly :)\")\n",
    "    print(\"Your point is {}\".format(point))      \n",
    "elif answer == \"D\":\n",
    "    print(\"Please write without capital letters, you could not get any points.\")\n",
    "else:\n",
    "    print(\"You answered wrong :(\")\n",
    "    print(\"Your point is {}\".format(point))   "
   ]
  },
  {
   "cell_type": "code",
   "execution_count": 9,
   "metadata": {},
   "outputs": [
    {
     "name": "stdout",
     "output_type": "stream",
     "text": [
      "Q3: One should never ... the importance of family life in the overall development of a child.\n",
      "a) capture\n",
      "b) calculate\n",
      "c) gamble\n",
      "d) underestimate\n",
      "b\n",
      "You answered wrong :(\n",
      "Your point is 20\n"
     ]
    }
   ],
   "source": [
    "print(\"Q3: One should never ... the importance of family life in the overall development of a child.\")\n",
    "print(\"a) capture\")\n",
    "print(\"b) calculate\")\n",
    "print(\"c) gamble\")\n",
    "print(\"d) underestimate\")\n",
    "\n",
    "answer = input()\n",
    "\n",
    "if answer == \"d\":\n",
    "    point = point + 10\n",
    "    print(\"You answered correctly :)\")\n",
    "    print(\"Your point is {}\".format(point))  \n",
    "elif answer == \"D\":\n",
    "    print(\"Please write without capital letters, you could not get any points.\")\n",
    "else:\n",
    "    print(\"You answered wrong :(\")\n",
    "    print(\"Your point is {}\".format(point))   "
   ]
  },
  {
   "cell_type": "code",
   "execution_count": 10,
   "metadata": {},
   "outputs": [
    {
     "name": "stdout",
     "output_type": "stream",
     "text": [
      "Q4: Yesterday morning, I found my little bird lying dead inside his ... .\n",
      "a) cave\n",
      "b) cage\n",
      "c) cemetery\n",
      "d) pavement\n",
      "d\n",
      "You answered wrong :(\n",
      "Your point is 20\n"
     ]
    }
   ],
   "source": [
    "print(\"Q4: Yesterday morning, I found my little bird lying dead inside his ... .\")\n",
    "print(\"a) cave\")\n",
    "print(\"b) cage\")\n",
    "print(\"c) cemetery\")\n",
    "print(\"d) pavement\")\n",
    "\n",
    "answer = input()\n",
    "\n",
    "if answer == \"b\":\n",
    "    point = point + 10\n",
    "    print(\"You answered correctly :)\")\n",
    "    print(\"Your point is {}\".format(point))  \n",
    "elif answer == \"B\":\n",
    "    print(\"Please write without capital letters, you could not get any points.\")\n",
    "else:\n",
    "    print(\"You answered wrong :(\")\n",
    "    print(\"Your point is {}\".format(point))   "
   ]
  },
  {
   "cell_type": "code",
   "execution_count": 11,
   "metadata": {},
   "outputs": [
    {
     "name": "stdout",
     "output_type": "stream",
     "text": [
      "Q5: Theft and ... are still among the most serious crimes in many countries.\n",
      "a) welfare\n",
      "b) homicide\n",
      "c) sacrifice\n",
      "d) ignorance\n",
      "b\n",
      "You answered correctly :)\n",
      "Your point is 30\n"
     ]
    }
   ],
   "source": [
    "print(\"Q5: Theft and ... are still among the most serious crimes in many countries.\")\n",
    "print(\"a) welfare\")\n",
    "print(\"b) homicide\")\n",
    "print(\"c) sacrifice\")\n",
    "print(\"d) ignorance\")\n",
    "\n",
    "answer = input()\n",
    "\n",
    "if answer == \"b\":\n",
    "    point = point + 10\n",
    "    print(\"You answered correctly :)\")\n",
    "    print(\"Your point is {}\".format(point))    \n",
    "elif answer == \"B\":\n",
    "    print(\"Please write without capital letters, you could not get any points.\")\n",
    "else:\n",
    "    print(\"You answered wrong :(\")\n",
    "    print(\"Your point is {}\".format(point))   "
   ]
  },
  {
   "cell_type": "code",
   "execution_count": 12,
   "metadata": {},
   "outputs": [
    {
     "name": "stdout",
     "output_type": "stream",
     "text": [
      "Q6: All the runners had completed the first ... of the race when a sudden rain started.\n",
      "a) hint\n",
      "b) ladder\n",
      "c) lane\n",
      "d) lap\n",
      "d\n",
      "You answered correctly :)\n",
      "Your point is 40\n"
     ]
    }
   ],
   "source": [
    "print(\"Q6: All the runners had completed the first ... of the race when a sudden rain started.\")\n",
    "print(\"a) hint\")\n",
    "print(\"b) ladder\")\n",
    "print(\"c) lane\")\n",
    "print(\"d) lap\")\n",
    "\n",
    "answer = input()\n",
    "\n",
    "if answer == \"d\":\n",
    "    point = point + 10\n",
    "    print(\"You answered correctly :)\")\n",
    "    print(\"Your point is {}\".format(point)) \n",
    "elif answer == \"D\":\n",
    "    print(\"Please write without capital letters, you could not get any points.\")\n",
    "else:\n",
    "    print(\"You answered wrong :(\")\n",
    "    print(\"Your point is {}\".format(point))   "
   ]
  },
  {
   "cell_type": "code",
   "execution_count": 13,
   "metadata": {},
   "outputs": [
    {
     "name": "stdout",
     "output_type": "stream",
     "text": [
      "Q7: In twenty years' time, the food supplies will be so ... for some countries that people will start immigrating in huge numbers.\n",
      "a) scale\n",
      "b) scarce\n",
      "c) scan\n",
      "d) scare\n",
      "b\n",
      "You answered correctly :)\n",
      "Your point is 50\n"
     ]
    }
   ],
   "source": [
    "print(\"Q7: In twenty years' time, the food supplies will be so ... for some countries that people will start immigrating in huge numbers.\")\n",
    "print(\"a) scale\")\n",
    "print(\"b) scarce\")\n",
    "print(\"c) scan\")\n",
    "print(\"d) scare\")\n",
    "\n",
    "answer = input()\n",
    "\n",
    "if answer == \"b\":\n",
    "    point = point + 10\n",
    "    print(\"You answered correctly :)\")\n",
    "    print(\"Your point is {}\".format(point))       \n",
    "elif answer == \"B\":\n",
    "    print(\"Please write without capital letters, you could not get any points.\")\n",
    "else:\n",
    "    print(\"You answered wrong :(\")\n",
    "    print(\"Your point is {}\".format(point))   "
   ]
  },
  {
   "cell_type": "code",
   "execution_count": 14,
   "metadata": {},
   "outputs": [
    {
     "name": "stdout",
     "output_type": "stream",
     "text": [
      "Q8: Many people in the world are forced to leave their countries and become ... because of their religious or political views.\n",
      "a) patriot\n",
      "b) peasant\n",
      "c) refugee\n",
      "d) bandit\n",
      "c\n",
      "You answered correctly :)\n",
      "Your point is 60\n"
     ]
    }
   ],
   "source": [
    "print(\"Q8: Many people in the world are forced to leave their countries and become ... because of their religious or political views.\")\n",
    "print(\"a) patriot\")\n",
    "print(\"b) peasant\")\n",
    "print(\"c) refugee\")\n",
    "print(\"d) bandit\")\n",
    "\n",
    "answer = input()\n",
    "\n",
    "if answer == \"c\":\n",
    "    point = point + 10\n",
    "    print(\"You answered correctly :)\")\n",
    "    print(\"Your point is {}\".format(point))    \n",
    "elif answer == \"C\":\n",
    "    print(\"Please write without capital letters, you could not get any points.\")\n",
    "else:\n",
    "    print(\"You answered wrong :(\")\n",
    "    print(\"Your point is {}\".format(point))   "
   ]
  },
  {
   "cell_type": "code",
   "execution_count": 15,
   "metadata": {},
   "outputs": [
    {
     "name": "stdout",
     "output_type": "stream",
     "text": [
      "Q9: Whether you are in love with her or not, I will never ... to this marriage.\n",
      "a) decline\n",
      "b) consent\n",
      "c) approve\n",
      "d) argue\n",
      "c\n",
      "You answered wrong :(\n",
      "Your point is 60\n"
     ]
    }
   ],
   "source": [
    "print(\"Q9: Whether you are in love with her or not, I will never ... to this marriage.\")\n",
    "print(\"a) decline\")\n",
    "print(\"b) consent\")\n",
    "print(\"c) approve\")\n",
    "print(\"d) argue\")\n",
    "\n",
    "answer = input()\n",
    "\n",
    "if answer == \"b\":\n",
    "    point = point + 10\n",
    "    print(\"You answered correctly :)\")\n",
    "    print(\"Your point is {}\".format(point))\n",
    "elif answer == \"B\":\n",
    "    print(\"Please write without capital letters, you could not get any points.\")\n",
    "else:\n",
    "    print(\"You answered wrong :(\")\n",
    "    print(\"Your point is {}\".format(point))   "
   ]
  },
  {
   "cell_type": "code",
   "execution_count": 16,
   "metadata": {},
   "outputs": [
    {
     "name": "stdout",
     "output_type": "stream",
     "text": [
      "Q10: If you are late to the meeting, it will be really difficult to ... the subjects which have been discussed.\n",
      "a) look for\n",
      "b) play down\n",
      "c) drop in\n",
      "d) catch up with\n",
      "D\n",
      "Please write without capital letters, you could not get any points.\n"
     ]
    }
   ],
   "source": [
    "print(\"Q10: If you are late to the meeting, it will be really difficult to ... the subjects which have been discussed.\")\n",
    "print(\"a) look for\")\n",
    "print(\"b) play down\")\n",
    "print(\"c) drop in\")\n",
    "print(\"d) catch up with\")\n",
    "\n",
    "answer = input()\n",
    "\n",
    "if answer == \"d\":\n",
    "    point = point + 10\n",
    "    print(\"You answered correctly :)\")\n",
    "    print(\"Your point is {}\".format(point))  \n",
    "elif answer == \"D\":\n",
    "    print(\"Please write without capital letters, you could not get any points.\")\n",
    "else:\n",
    "    print(\"You answered wrong :(\")\n",
    "    print(\"Your point is {}\".format(point))   "
   ]
  },
  {
   "cell_type": "code",
   "execution_count": 17,
   "metadata": {},
   "outputs": [
    {
     "name": "stdout",
     "output_type": "stream",
     "text": [
      "Congratulations, you succeeded with 60 points.\n"
     ]
    }
   ],
   "source": [
    "if point<=50:\n",
    "    print(\"You failed with {} points.\".format(point))\n",
    "else:\n",
    "    print(\"Congratulations, you succeeded with {} points.\".format(point))"
   ]
  }
 ],
 "metadata": {
  "kernelspec": {
   "display_name": "Python 3",
   "language": "python",
   "name": "python3"
  },
  "language_info": {
   "codemirror_mode": {
    "name": "ipython",
    "version": 3
   },
   "file_extension": ".py",
   "mimetype": "text/x-python",
   "name": "python",
   "nbconvert_exporter": "python",
   "pygments_lexer": "ipython3",
   "version": "3.7.4"
  }
 },
 "nbformat": 4,
 "nbformat_minor": 2
}
